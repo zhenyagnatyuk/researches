{
 "cells": [
  {
   "cell_type": "markdown",
   "metadata": {},
   "source": [
    "## Background##\n",
    "To see relations between the rate of inflation and the unemployment rate you need to build the Phillips curve. Phillips curve represents the average correlation between unemployment and wage behavior. It shows the rate of wage inflation that would result if a particular level of unemployment persisted for some time. In simple terms, when unemployment is high, wages increase slowly; when unemployment is low, wages rise rapidly. \n",
    "\n",
    " If business is booming, employers will be seeking for workers and offering them bigger wages.That means that demand for labor is increasing at a fast pace (i.e., percentage unemployment is decreasing rapidly), than they would if the demand for labor were either not increasing (e.g., percentage unemployment is unchanging) or only increasing at a slow pace. Also a lower rate of unemployment is associated with higher wage rate or inflation, and vice versa. When wage increases, the firms cost of production increases which leads to increase in price. Therefore it is also called wage inflation, that is, decrease in unemployment leads to wage inflation. \n",
    " \n",
    " To build the Phillips curve you need two indicators: CPI change and percantage of unemployment. The CPI measures the average change in prices over time that consumers pay for a basket of goods and services, commonly known as inflation.The weighted average of the prices of goods and services that approximates an individual's consumption patterns is used to calculate CPI.\n",
    " \n"
   ]
  },
  {
   "cell_type": "markdown",
   "metadata": {},
   "source": [
    "## Datasets\n",
    "Let's start by importing some necessary modules and libraries. There are pandas_datareader for datasets, datatime from datatime to manipulating dates and seaborn library for data vizualization. \n"
   ]
  },
  {
   "cell_type": "code",
   "execution_count": 58,
   "metadata": {},
   "outputs": [],
   "source": [
    "import pandas_datareader as web\n",
    "from datetime import datetime\n",
    "import seaborn as sns"
   ]
  },
  {
   "cell_type": "markdown",
   "metadata": {},
   "source": [
    "Now you have prepare datasets to work with them. Here are two links to datasets with which you will work. First is **cpi_url**, wich includes data for calculation CPI change. And the second link called **urate_url**  contains info abount unemployment."
   ]
  },
  {
   "cell_type": "code",
   "execution_count": 59,
   "metadata": {},
   "outputs": [],
   "source": [
    "cpi_url = (\n",
    "   'dataset=PRC_HICP_MIDX&to=2019-08-01&from=1996-01-01&COICOP=[CP00]'\n",
    "   '&GEO=[AT,BE,BG,HR,CY,CZ,DK,EE,EA18,EA19,EA,EEA,EU28,EU,EU27_2019,'\n",
    "   'FI,MK,FR,DE,EL,HU,IS,IE,IT,LV,LT,LU,MT,NL,NO,PL,PT,RO,RS,SK,SI,ES'\n",
    "   ',SE,CH,TR,UK,US]&UNIT=[I15]&h=TIME&v=Geopolitical%20entity%20(reporting)')\n",
    "urate_url = (\n",
    "   'dataset=UNE_RT_M&to=2019-08-01&from=1983-01-01&AGE=[TOTAL]&S_ADJ=[SA]'\n",
    "    '&SEX=[T]&UNIT=[PC_ACT]&h=TIME&v=Geopolitical%20entity%20(reporting)')"
   ]
  },
  {
   "cell_type": "markdown",
   "metadata": {},
   "source": [
    "Select time period from the dataset, which data will be used for the scatter plot of correlation. For example, **2019-06-01**:"
   ]
  },
  {
   "cell_type": "code",
   "execution_count": 60,
   "metadata": {},
   "outputs": [],
   "source": [
    "T = datetime(2019, 6, 1)"
   ]
  },
  {
   "cell_type": "markdown",
   "metadata": {},
   "source": [
    "Export data from Econdb to **cpi** dataframe using **DataReader** by passing appropriate source (in this case **cpi_url**).To get values from multiindex use the method **get_level_values()** and pass level you need."
   ]
  },
  {
   "cell_type": "code",
   "execution_count": 61,
   "metadata": {},
   "outputs": [],
   "source": [
    "cpi = web.DataReader(cpi_url, 'econdb')\n",
    "cpi.columns = cpi.columns.get_level_values(3)"
   ]
  },
  {
   "cell_type": "markdown",
   "metadata": {},
   "source": [
    "To track dependence on the plot you should use 12 month period. So, calculate the pecantage change of CPI from dataframe with 12 period. Then reshape your dataset to two columns table with CPI change for 2019-06-01 in each country."
   ]
  },
  {
   "cell_type": "code",
   "execution_count": 62,
   "metadata": {},
   "outputs": [],
   "source": [
    "cpi = cpi.pct_change(12)\n",
    "cpi = cpi.loc[T].to_frame(name='CPI')"
   ]
  },
  {
   "cell_type": "markdown",
   "metadata": {},
   "source": [
    "To get data about unemployment export dataset by link **urate_url** in **DataReader**, use again **get_level_values()** method to get 5th level and convert your dataframe to table with unemployment rate data in each country. "
   ]
  },
  {
   "cell_type": "code",
   "execution_count": 63,
   "metadata": {},
   "outputs": [],
   "source": [
    "urate = web.DataReader(urate_url, 'econdb')\n",
    "urate.columns = urate.columns.get_level_values(5)\n",
    "urate = urate.loc[T].to_frame(name='URATE')"
   ]
  },
  {
   "cell_type": "markdown",
   "metadata": {},
   "source": [
    "Concatenate dataframes with unemployment rate and  CPI change by **join()** method. To exclude european country groups (areas and unions) skip values of index that contains 'Euro' using **lambda** and **map()**.  "
   ]
  },
  {
   "cell_type": "code",
   "execution_count": 64,
   "metadata": {},
   "outputs": [],
   "source": [
    "cs = cpi.join(urate)\n",
    "cs = cs.iloc[cs.index.map(lambda x: not x.startswith(('Euro', 'Turkey')))]"
   ]
  },
  {
   "cell_type": "markdown",
   "metadata": {},
   "source": [
    "## Scatter plot"
   ]
  },
  {
   "cell_type": "markdown",
   "metadata": {},
   "source": [
    "You have the dataframe with all data you need for plot. And now you can use **seaborn** and visualizate relations between the rate of inflation (CPI) and the unemployment rate.\n",
    "\n",
    "Just call the **seaborn** method **regplot()** and pass them data for x and y axes. This function draw a scatterplot of two variables, x(URATE) and y(CPI), and then fit the regression model y ~ x and plot the resulting regression line and a 95% confidence interval for that regression. "
   ]
  },
  {
   "cell_type": "code",
   "execution_count": 65,
   "metadata": {},
   "outputs": [
    {
     "data": {
      "text/plain": [
       "<matplotlib.axes._subplots.AxesSubplot at 0x138d87e29e8>"
      ]
     },
     "execution_count": 65,
     "metadata": {},
     "output_type": "execute_result"
    },
    {
     "data": {
      "image/png": "[encoded data removed]",
      "text/plain": [
       "<Figure size 432x288 with 1 Axes>"
      ]
     },
     "metadata": {
      "needs_background": "light"
     },
     "output_type": "display_data"
    }
   ],
   "source": [
    "sns.regplot(cs.URATE, cs.CPI)"
   ]
  },
  {
   "cell_type": "markdown",
   "metadata": {},
   "source": [
    "So, here is a Philips curve that demonstrate how change unemployment rate with changing a CPI. As you move up or down the blue line, either inflation or unemployment will increase and the other decrease."
   ]
  }
 ],
 "metadata": {
  "kernelspec": {
   "display_name": "Python 3",
   "language": "python",
   "name": "python3"
  },
  "language_info": {
   "codemirror_mode": {
    "name": "ipython",
    "version": 3
   },
   "file_extension": ".py",
   "mimetype": "text/x-python",
   "name": "python",
   "nbconvert_exporter": "python",
   "pygments_lexer": "ipython3",
   "version": "3.7.3"
  }
 },
 "nbformat": 4,
 "nbformat_minor": 2
}
